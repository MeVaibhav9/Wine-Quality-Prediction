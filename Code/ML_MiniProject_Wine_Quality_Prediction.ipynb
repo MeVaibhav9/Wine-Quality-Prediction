{
  "nbformat": 4,
  "nbformat_minor": 0,
  "metadata": {
    "colab": {
      "name": "ML_MiniProject Wine Quality Prediction.ipynb",
      "provenance": [],
      "collapsed_sections": []
    },
    "kernelspec": {
      "name": "python3",
      "display_name": "Python 3"
    },
    "language_info": {
      "name": "python"
    }
  },
  "cells": [
    {
      "cell_type": "markdown",
      "metadata": {
        "id": "8a8SxtnOOYlN"
      },
      "source": [
        "___________________________________________________________________________\n",
        "# **Machine Learning Project - Prediction of wine quality using ML algorithms.**\n",
        "\n",
        "___________________________________________________________________________\n",
        "\n",
        "**STEPS:**\n",
        "\n",
        "**(1) Importing Packages**\n",
        "\n",
        "**(2) Loading Dataset**\n",
        "\n",
        "**(3) Plotting Graphs**\n",
        "\n",
        "**(4) Pre-Processing Data**\n",
        "\n",
        "**(5) K-Fold Implementation**\n",
        "\n",
        "**(6) Creating ML models** \n",
        "\n",
        "    i) Logistic Regression\n",
        "    ii) Single Perceptron\n",
        "    iii) Multi Layer Perceptron \n",
        "\n"
      ]
    },
    {
      "cell_type": "markdown",
      "metadata": {
        "id": "ZAKgemX3Lr8s"
      },
      "source": [
        "**IMPORTING REQUIRED PAKAGES**"
      ]
    },
    {
      "cell_type": "code",
      "metadata": {
        "id": "Jq6kAzG73pFb"
      },
      "source": [
        "import numpy as np\n",
        "import pandas as pd\n",
        "import matplotlib.pyplot as plt\n",
        "import seaborn as sns\n",
        "from sklearn.linear_model import LogisticRegression\n",
        "from sklearn.preprocessing import LabelEncoder\n",
        "from sklearn.preprocessing import StandardScaler\n",
        "from sklearn.utils import shuffle\n",
        "from sklearn.model_selection import KFold\n",
        "from sklearn.model_selection import train_test_split\n",
        "from sklearn.metrics import accuracy_score,recall_score,precision_score,f1_score"
      ],
      "execution_count": null,
      "outputs": []
    },
    {
      "cell_type": "markdown",
      "metadata": {
        "id": "9nZxIPg9L46l"
      },
      "source": [
        "**LOADING DATASET**"
      ]
    },
    {
      "cell_type": "code",
      "metadata": {
        "colab": {
          "base_uri": "https://localhost:8080/"
        },
        "id": "gnFpczF_Dh8w",
        "outputId": "e2d8f3b4-0a62-4c5c-8007-ff9dc6d656d3"
      },
      "source": [
        "from google.colab import drive\n",
        "drive.mount('/content/drive')"
      ],
      "execution_count": null,
      "outputs": [
        {
          "output_type": "stream",
          "name": "stdout",
          "text": [
            "Mounted at /content/drive\n"
          ]
        }
      ]
    },
    {
      "cell_type": "code",
      "metadata": {
        "colab": {
          "base_uri": "https://localhost:8080/",
          "height": 203
        },
        "id": "MgR9Hyxx3r30",
        "outputId": "e42e7376-2629-4098-c15d-b4e6d3aa3ec4"
      },
      "source": [
        "df = pd.read_csv(\"/content/drive/MyDrive/winequality-red.csv\")\n",
        "# df_white=pd.read_csv(\"/content/drive/MyDrive/winequality-white.csv\",sep=\";\")\n",
        "df.head()"
      ],
      "execution_count": null,
      "outputs": [
        {
          "output_type": "execute_result",
          "data": {
            "text/html": [
              "<div>\n",
              "<style scoped>\n",
              "    .dataframe tbody tr th:only-of-type {\n",
              "        vertical-align: middle;\n",
              "    }\n",
              "\n",
              "    .dataframe tbody tr th {\n",
              "        vertical-align: top;\n",
              "    }\n",
              "\n",
              "    .dataframe thead th {\n",
              "        text-align: right;\n",
              "    }\n",
              "</style>\n",
              "<table border=\"1\" class=\"dataframe\">\n",
              "  <thead>\n",
              "    <tr style=\"text-align: right;\">\n",
              "      <th></th>\n",
              "      <th>fixed acidity</th>\n",
              "      <th>volatile acidity</th>\n",
              "      <th>citric acid</th>\n",
              "      <th>residual sugar</th>\n",
              "      <th>chlorides</th>\n",
              "      <th>free sulfur dioxide</th>\n",
              "      <th>total sulfur dioxide</th>\n",
              "      <th>density</th>\n",
              "      <th>pH</th>\n",
              "      <th>sulphates</th>\n",
              "      <th>alcohol</th>\n",
              "      <th>quality</th>\n",
              "    </tr>\n",
              "  </thead>\n",
              "  <tbody>\n",
              "    <tr>\n",
              "      <th>0</th>\n",
              "      <td>7.4</td>\n",
              "      <td>0.70</td>\n",
              "      <td>0.00</td>\n",
              "      <td>1.9</td>\n",
              "      <td>0.076</td>\n",
              "      <td>11.0</td>\n",
              "      <td>34.0</td>\n",
              "      <td>0.9978</td>\n",
              "      <td>3.51</td>\n",
              "      <td>0.56</td>\n",
              "      <td>9.4</td>\n",
              "      <td>5</td>\n",
              "    </tr>\n",
              "    <tr>\n",
              "      <th>1</th>\n",
              "      <td>7.8</td>\n",
              "      <td>0.88</td>\n",
              "      <td>0.00</td>\n",
              "      <td>2.6</td>\n",
              "      <td>0.098</td>\n",
              "      <td>25.0</td>\n",
              "      <td>67.0</td>\n",
              "      <td>0.9968</td>\n",
              "      <td>3.20</td>\n",
              "      <td>0.68</td>\n",
              "      <td>9.8</td>\n",
              "      <td>5</td>\n",
              "    </tr>\n",
              "    <tr>\n",
              "      <th>2</th>\n",
              "      <td>7.8</td>\n",
              "      <td>0.76</td>\n",
              "      <td>0.04</td>\n",
              "      <td>2.3</td>\n",
              "      <td>0.092</td>\n",
              "      <td>15.0</td>\n",
              "      <td>54.0</td>\n",
              "      <td>0.9970</td>\n",
              "      <td>3.26</td>\n",
              "      <td>0.65</td>\n",
              "      <td>9.8</td>\n",
              "      <td>5</td>\n",
              "    </tr>\n",
              "    <tr>\n",
              "      <th>3</th>\n",
              "      <td>11.2</td>\n",
              "      <td>0.28</td>\n",
              "      <td>0.56</td>\n",
              "      <td>1.9</td>\n",
              "      <td>0.075</td>\n",
              "      <td>17.0</td>\n",
              "      <td>60.0</td>\n",
              "      <td>0.9980</td>\n",
              "      <td>3.16</td>\n",
              "      <td>0.58</td>\n",
              "      <td>9.8</td>\n",
              "      <td>6</td>\n",
              "    </tr>\n",
              "    <tr>\n",
              "      <th>4</th>\n",
              "      <td>7.4</td>\n",
              "      <td>0.70</td>\n",
              "      <td>0.00</td>\n",
              "      <td>1.9</td>\n",
              "      <td>0.076</td>\n",
              "      <td>11.0</td>\n",
              "      <td>34.0</td>\n",
              "      <td>0.9978</td>\n",
              "      <td>3.51</td>\n",
              "      <td>0.56</td>\n",
              "      <td>9.4</td>\n",
              "      <td>5</td>\n",
              "    </tr>\n",
              "  </tbody>\n",
              "</table>\n",
              "</div>"
            ],
            "text/plain": [
              "   fixed acidity  volatile acidity  citric acid  ...  sulphates  alcohol  quality\n",
              "0            7.4              0.70         0.00  ...       0.56      9.4        5\n",
              "1            7.8              0.88         0.00  ...       0.68      9.8        5\n",
              "2            7.8              0.76         0.04  ...       0.65      9.8        5\n",
              "3           11.2              0.28         0.56  ...       0.58      9.8        6\n",
              "4            7.4              0.70         0.00  ...       0.56      9.4        5\n",
              "\n",
              "[5 rows x 12 columns]"
            ]
          },
          "metadata": {},
          "execution_count": 3
        }
      ]
    },
    {
      "cell_type": "code",
      "metadata": {
        "colab": {
          "base_uri": "https://localhost:8080/",
          "height": 417
        },
        "id": "XsJPkXjD38e4",
        "outputId": "933f41fa-e50e-49c9-d6e7-d8b602c1c818"
      },
      "source": [
        "df"
      ],
      "execution_count": null,
      "outputs": [
        {
          "output_type": "execute_result",
          "data": {
            "text/html": [
              "<div>\n",
              "<style scoped>\n",
              "    .dataframe tbody tr th:only-of-type {\n",
              "        vertical-align: middle;\n",
              "    }\n",
              "\n",
              "    .dataframe tbody tr th {\n",
              "        vertical-align: top;\n",
              "    }\n",
              "\n",
              "    .dataframe thead th {\n",
              "        text-align: right;\n",
              "    }\n",
              "</style>\n",
              "<table border=\"1\" class=\"dataframe\">\n",
              "  <thead>\n",
              "    <tr style=\"text-align: right;\">\n",
              "      <th></th>\n",
              "      <th>fixed acidity</th>\n",
              "      <th>volatile acidity</th>\n",
              "      <th>citric acid</th>\n",
              "      <th>residual sugar</th>\n",
              "      <th>chlorides</th>\n",
              "      <th>free sulfur dioxide</th>\n",
              "      <th>total sulfur dioxide</th>\n",
              "      <th>density</th>\n",
              "      <th>pH</th>\n",
              "      <th>sulphates</th>\n",
              "      <th>alcohol</th>\n",
              "      <th>quality</th>\n",
              "    </tr>\n",
              "  </thead>\n",
              "  <tbody>\n",
              "    <tr>\n",
              "      <th>0</th>\n",
              "      <td>7.4</td>\n",
              "      <td>0.700</td>\n",
              "      <td>0.00</td>\n",
              "      <td>1.9</td>\n",
              "      <td>0.076</td>\n",
              "      <td>11.0</td>\n",
              "      <td>34.0</td>\n",
              "      <td>0.99780</td>\n",
              "      <td>3.51</td>\n",
              "      <td>0.56</td>\n",
              "      <td>9.4</td>\n",
              "      <td>5</td>\n",
              "    </tr>\n",
              "    <tr>\n",
              "      <th>1</th>\n",
              "      <td>7.8</td>\n",
              "      <td>0.880</td>\n",
              "      <td>0.00</td>\n",
              "      <td>2.6</td>\n",
              "      <td>0.098</td>\n",
              "      <td>25.0</td>\n",
              "      <td>67.0</td>\n",
              "      <td>0.99680</td>\n",
              "      <td>3.20</td>\n",
              "      <td>0.68</td>\n",
              "      <td>9.8</td>\n",
              "      <td>5</td>\n",
              "    </tr>\n",
              "    <tr>\n",
              "      <th>2</th>\n",
              "      <td>7.8</td>\n",
              "      <td>0.760</td>\n",
              "      <td>0.04</td>\n",
              "      <td>2.3</td>\n",
              "      <td>0.092</td>\n",
              "      <td>15.0</td>\n",
              "      <td>54.0</td>\n",
              "      <td>0.99700</td>\n",
              "      <td>3.26</td>\n",
              "      <td>0.65</td>\n",
              "      <td>9.8</td>\n",
              "      <td>5</td>\n",
              "    </tr>\n",
              "    <tr>\n",
              "      <th>3</th>\n",
              "      <td>11.2</td>\n",
              "      <td>0.280</td>\n",
              "      <td>0.56</td>\n",
              "      <td>1.9</td>\n",
              "      <td>0.075</td>\n",
              "      <td>17.0</td>\n",
              "      <td>60.0</td>\n",
              "      <td>0.99800</td>\n",
              "      <td>3.16</td>\n",
              "      <td>0.58</td>\n",
              "      <td>9.8</td>\n",
              "      <td>6</td>\n",
              "    </tr>\n",
              "    <tr>\n",
              "      <th>4</th>\n",
              "      <td>7.4</td>\n",
              "      <td>0.700</td>\n",
              "      <td>0.00</td>\n",
              "      <td>1.9</td>\n",
              "      <td>0.076</td>\n",
              "      <td>11.0</td>\n",
              "      <td>34.0</td>\n",
              "      <td>0.99780</td>\n",
              "      <td>3.51</td>\n",
              "      <td>0.56</td>\n",
              "      <td>9.4</td>\n",
              "      <td>5</td>\n",
              "    </tr>\n",
              "    <tr>\n",
              "      <th>...</th>\n",
              "      <td>...</td>\n",
              "      <td>...</td>\n",
              "      <td>...</td>\n",
              "      <td>...</td>\n",
              "      <td>...</td>\n",
              "      <td>...</td>\n",
              "      <td>...</td>\n",
              "      <td>...</td>\n",
              "      <td>...</td>\n",
              "      <td>...</td>\n",
              "      <td>...</td>\n",
              "      <td>...</td>\n",
              "    </tr>\n",
              "    <tr>\n",
              "      <th>1594</th>\n",
              "      <td>6.2</td>\n",
              "      <td>0.600</td>\n",
              "      <td>0.08</td>\n",
              "      <td>2.0</td>\n",
              "      <td>0.090</td>\n",
              "      <td>32.0</td>\n",
              "      <td>44.0</td>\n",
              "      <td>0.99490</td>\n",
              "      <td>3.45</td>\n",
              "      <td>0.58</td>\n",
              "      <td>10.5</td>\n",
              "      <td>5</td>\n",
              "    </tr>\n",
              "    <tr>\n",
              "      <th>1595</th>\n",
              "      <td>5.9</td>\n",
              "      <td>0.550</td>\n",
              "      <td>0.10</td>\n",
              "      <td>2.2</td>\n",
              "      <td>0.062</td>\n",
              "      <td>39.0</td>\n",
              "      <td>51.0</td>\n",
              "      <td>0.99512</td>\n",
              "      <td>3.52</td>\n",
              "      <td>0.76</td>\n",
              "      <td>11.2</td>\n",
              "      <td>6</td>\n",
              "    </tr>\n",
              "    <tr>\n",
              "      <th>1596</th>\n",
              "      <td>6.3</td>\n",
              "      <td>0.510</td>\n",
              "      <td>0.13</td>\n",
              "      <td>2.3</td>\n",
              "      <td>0.076</td>\n",
              "      <td>29.0</td>\n",
              "      <td>40.0</td>\n",
              "      <td>0.99574</td>\n",
              "      <td>3.42</td>\n",
              "      <td>0.75</td>\n",
              "      <td>11.0</td>\n",
              "      <td>6</td>\n",
              "    </tr>\n",
              "    <tr>\n",
              "      <th>1597</th>\n",
              "      <td>5.9</td>\n",
              "      <td>0.645</td>\n",
              "      <td>0.12</td>\n",
              "      <td>2.0</td>\n",
              "      <td>0.075</td>\n",
              "      <td>32.0</td>\n",
              "      <td>44.0</td>\n",
              "      <td>0.99547</td>\n",
              "      <td>3.57</td>\n",
              "      <td>0.71</td>\n",
              "      <td>10.2</td>\n",
              "      <td>5</td>\n",
              "    </tr>\n",
              "    <tr>\n",
              "      <th>1598</th>\n",
              "      <td>6.0</td>\n",
              "      <td>0.310</td>\n",
              "      <td>0.47</td>\n",
              "      <td>3.6</td>\n",
              "      <td>0.067</td>\n",
              "      <td>18.0</td>\n",
              "      <td>42.0</td>\n",
              "      <td>0.99549</td>\n",
              "      <td>3.39</td>\n",
              "      <td>0.66</td>\n",
              "      <td>11.0</td>\n",
              "      <td>6</td>\n",
              "    </tr>\n",
              "  </tbody>\n",
              "</table>\n",
              "<p>1599 rows × 12 columns</p>\n",
              "</div>"
            ],
            "text/plain": [
              "      fixed acidity  volatile acidity  citric acid  ...  sulphates  alcohol  quality\n",
              "0               7.4             0.700         0.00  ...       0.56      9.4        5\n",
              "1               7.8             0.880         0.00  ...       0.68      9.8        5\n",
              "2               7.8             0.760         0.04  ...       0.65      9.8        5\n",
              "3              11.2             0.280         0.56  ...       0.58      9.8        6\n",
              "4               7.4             0.700         0.00  ...       0.56      9.4        5\n",
              "...             ...               ...          ...  ...        ...      ...      ...\n",
              "1594            6.2             0.600         0.08  ...       0.58     10.5        5\n",
              "1595            5.9             0.550         0.10  ...       0.76     11.2        6\n",
              "1596            6.3             0.510         0.13  ...       0.75     11.0        6\n",
              "1597            5.9             0.645         0.12  ...       0.71     10.2        5\n",
              "1598            6.0             0.310         0.47  ...       0.66     11.0        6\n",
              "\n",
              "[1599 rows x 12 columns]"
            ]
          },
          "metadata": {},
          "execution_count": 4
        }
      ]
    },
    {
      "cell_type": "code",
      "metadata": {
        "colab": {
          "base_uri": "https://localhost:8080/"
        },
        "id": "EbZ0Aekl3-xR",
        "outputId": "3f860f63-d351-447d-fe90-27147830d0ae"
      },
      "source": [
        "df.columns"
      ],
      "execution_count": null,
      "outputs": [
        {
          "output_type": "execute_result",
          "data": {
            "text/plain": [
              "Index(['fixed acidity', 'volatile acidity', 'citric acid', 'residual sugar',\n",
              "       'chlorides', 'free sulfur dioxide', 'total sulfur dioxide', 'density',\n",
              "       'pH', 'sulphates', 'alcohol', 'quality'],\n",
              "      dtype='object')"
            ]
          },
          "metadata": {},
          "execution_count": 5
        }
      ]
    },
    {
      "cell_type": "code",
      "metadata": {
        "colab": {
          "base_uri": "https://localhost:8080/"
        },
        "id": "M553BLQ74E2b",
        "outputId": "ac45cfe2-0f72-4686-9e8c-ce2b056437f1"
      },
      "source": [
        "df.info()"
      ],
      "execution_count": null,
      "outputs": [
        {
          "output_type": "stream",
          "name": "stdout",
          "text": [
            "<class 'pandas.core.frame.DataFrame'>\n",
            "RangeIndex: 1599 entries, 0 to 1598\n",
            "Data columns (total 12 columns):\n",
            " #   Column                Non-Null Count  Dtype  \n",
            "---  ------                --------------  -----  \n",
            " 0   fixed acidity         1599 non-null   float64\n",
            " 1   volatile acidity      1599 non-null   float64\n",
            " 2   citric acid           1599 non-null   float64\n",
            " 3   residual sugar        1599 non-null   float64\n",
            " 4   chlorides             1599 non-null   float64\n",
            " 5   free sulfur dioxide   1599 non-null   float64\n",
            " 6   total sulfur dioxide  1599 non-null   float64\n",
            " 7   density               1599 non-null   float64\n",
            " 8   pH                    1599 non-null   float64\n",
            " 9   sulphates             1599 non-null   float64\n",
            " 10  alcohol               1599 non-null   float64\n",
            " 11  quality               1599 non-null   int64  \n",
            "dtypes: float64(11), int64(1)\n",
            "memory usage: 150.0 KB\n"
          ]
        }
      ]
    },
    {
      "cell_type": "code",
      "metadata": {
        "colab": {
          "base_uri": "https://localhost:8080/",
          "height": 312
        },
        "id": "z5SWYEW04GKe",
        "outputId": "3b2e90f2-9ff4-41b6-874c-ac39ac93e3cd"
      },
      "source": [
        "df.describe()"
      ],
      "execution_count": null,
      "outputs": [
        {
          "output_type": "execute_result",
          "data": {
            "text/html": [
              "<div>\n",
              "<style scoped>\n",
              "    .dataframe tbody tr th:only-of-type {\n",
              "        vertical-align: middle;\n",
              "    }\n",
              "\n",
              "    .dataframe tbody tr th {\n",
              "        vertical-align: top;\n",
              "    }\n",
              "\n",
              "    .dataframe thead th {\n",
              "        text-align: right;\n",
              "    }\n",
              "</style>\n",
              "<table border=\"1\" class=\"dataframe\">\n",
              "  <thead>\n",
              "    <tr style=\"text-align: right;\">\n",
              "      <th></th>\n",
              "      <th>fixed acidity</th>\n",
              "      <th>volatile acidity</th>\n",
              "      <th>citric acid</th>\n",
              "      <th>residual sugar</th>\n",
              "      <th>chlorides</th>\n",
              "      <th>free sulfur dioxide</th>\n",
              "      <th>total sulfur dioxide</th>\n",
              "      <th>density</th>\n",
              "      <th>pH</th>\n",
              "      <th>sulphates</th>\n",
              "      <th>alcohol</th>\n",
              "      <th>quality</th>\n",
              "    </tr>\n",
              "  </thead>\n",
              "  <tbody>\n",
              "    <tr>\n",
              "      <th>count</th>\n",
              "      <td>1599.000000</td>\n",
              "      <td>1599.000000</td>\n",
              "      <td>1599.000000</td>\n",
              "      <td>1599.000000</td>\n",
              "      <td>1599.000000</td>\n",
              "      <td>1599.000000</td>\n",
              "      <td>1599.000000</td>\n",
              "      <td>1599.000000</td>\n",
              "      <td>1599.000000</td>\n",
              "      <td>1599.000000</td>\n",
              "      <td>1599.000000</td>\n",
              "      <td>1599.000000</td>\n",
              "    </tr>\n",
              "    <tr>\n",
              "      <th>mean</th>\n",
              "      <td>8.319637</td>\n",
              "      <td>0.527821</td>\n",
              "      <td>0.270976</td>\n",
              "      <td>2.538806</td>\n",
              "      <td>0.087467</td>\n",
              "      <td>15.874922</td>\n",
              "      <td>46.467792</td>\n",
              "      <td>0.996747</td>\n",
              "      <td>3.311113</td>\n",
              "      <td>0.658149</td>\n",
              "      <td>10.422983</td>\n",
              "      <td>5.636023</td>\n",
              "    </tr>\n",
              "    <tr>\n",
              "      <th>std</th>\n",
              "      <td>1.741096</td>\n",
              "      <td>0.179060</td>\n",
              "      <td>0.194801</td>\n",
              "      <td>1.409928</td>\n",
              "      <td>0.047065</td>\n",
              "      <td>10.460157</td>\n",
              "      <td>32.895324</td>\n",
              "      <td>0.001887</td>\n",
              "      <td>0.154386</td>\n",
              "      <td>0.169507</td>\n",
              "      <td>1.065668</td>\n",
              "      <td>0.807569</td>\n",
              "    </tr>\n",
              "    <tr>\n",
              "      <th>min</th>\n",
              "      <td>4.600000</td>\n",
              "      <td>0.120000</td>\n",
              "      <td>0.000000</td>\n",
              "      <td>0.900000</td>\n",
              "      <td>0.012000</td>\n",
              "      <td>1.000000</td>\n",
              "      <td>6.000000</td>\n",
              "      <td>0.990070</td>\n",
              "      <td>2.740000</td>\n",
              "      <td>0.330000</td>\n",
              "      <td>8.400000</td>\n",
              "      <td>3.000000</td>\n",
              "    </tr>\n",
              "    <tr>\n",
              "      <th>25%</th>\n",
              "      <td>7.100000</td>\n",
              "      <td>0.390000</td>\n",
              "      <td>0.090000</td>\n",
              "      <td>1.900000</td>\n",
              "      <td>0.070000</td>\n",
              "      <td>7.000000</td>\n",
              "      <td>22.000000</td>\n",
              "      <td>0.995600</td>\n",
              "      <td>3.210000</td>\n",
              "      <td>0.550000</td>\n",
              "      <td>9.500000</td>\n",
              "      <td>5.000000</td>\n",
              "    </tr>\n",
              "    <tr>\n",
              "      <th>50%</th>\n",
              "      <td>7.900000</td>\n",
              "      <td>0.520000</td>\n",
              "      <td>0.260000</td>\n",
              "      <td>2.200000</td>\n",
              "      <td>0.079000</td>\n",
              "      <td>14.000000</td>\n",
              "      <td>38.000000</td>\n",
              "      <td>0.996750</td>\n",
              "      <td>3.310000</td>\n",
              "      <td>0.620000</td>\n",
              "      <td>10.200000</td>\n",
              "      <td>6.000000</td>\n",
              "    </tr>\n",
              "    <tr>\n",
              "      <th>75%</th>\n",
              "      <td>9.200000</td>\n",
              "      <td>0.640000</td>\n",
              "      <td>0.420000</td>\n",
              "      <td>2.600000</td>\n",
              "      <td>0.090000</td>\n",
              "      <td>21.000000</td>\n",
              "      <td>62.000000</td>\n",
              "      <td>0.997835</td>\n",
              "      <td>3.400000</td>\n",
              "      <td>0.730000</td>\n",
              "      <td>11.100000</td>\n",
              "      <td>6.000000</td>\n",
              "    </tr>\n",
              "    <tr>\n",
              "      <th>max</th>\n",
              "      <td>15.900000</td>\n",
              "      <td>1.580000</td>\n",
              "      <td>1.000000</td>\n",
              "      <td>15.500000</td>\n",
              "      <td>0.611000</td>\n",
              "      <td>72.000000</td>\n",
              "      <td>289.000000</td>\n",
              "      <td>1.003690</td>\n",
              "      <td>4.010000</td>\n",
              "      <td>2.000000</td>\n",
              "      <td>14.900000</td>\n",
              "      <td>8.000000</td>\n",
              "    </tr>\n",
              "  </tbody>\n",
              "</table>\n",
              "</div>"
            ],
            "text/plain": [
              "       fixed acidity  volatile acidity  ...      alcohol      quality\n",
              "count    1599.000000       1599.000000  ...  1599.000000  1599.000000\n",
              "mean        8.319637          0.527821  ...    10.422983     5.636023\n",
              "std         1.741096          0.179060  ...     1.065668     0.807569\n",
              "min         4.600000          0.120000  ...     8.400000     3.000000\n",
              "25%         7.100000          0.390000  ...     9.500000     5.000000\n",
              "50%         7.900000          0.520000  ...    10.200000     6.000000\n",
              "75%         9.200000          0.640000  ...    11.100000     6.000000\n",
              "max        15.900000          1.580000  ...    14.900000     8.000000\n",
              "\n",
              "[8 rows x 12 columns]"
            ]
          },
          "metadata": {},
          "execution_count": 7
        }
      ]
    },
    {
      "cell_type": "code",
      "metadata": {
        "colab": {
          "base_uri": "https://localhost:8080/"
        },
        "id": "6B3ejlYs4GHJ",
        "outputId": "fb809d74-678a-48be-f54d-2ef795a90322"
      },
      "source": [
        "df.isnull().sum()"
      ],
      "execution_count": null,
      "outputs": [
        {
          "output_type": "execute_result",
          "data": {
            "text/plain": [
              "fixed acidity           0\n",
              "volatile acidity        0\n",
              "citric acid             0\n",
              "residual sugar          0\n",
              "chlorides               0\n",
              "free sulfur dioxide     0\n",
              "total sulfur dioxide    0\n",
              "density                 0\n",
              "pH                      0\n",
              "sulphates               0\n",
              "alcohol                 0\n",
              "quality                 0\n",
              "dtype: int64"
            ]
          },
          "metadata": {},
          "execution_count": 8
        }
      ]
    },
    {
      "cell_type": "code",
      "metadata": {
        "colab": {
          "base_uri": "https://localhost:8080/"
        },
        "id": "Z8ixDLT04GE9",
        "outputId": "c44cac88-7d53-4c51-cb1e-ceea2a7ae6ab"
      },
      "source": [
        "df.shape"
      ],
      "execution_count": null,
      "outputs": [
        {
          "output_type": "execute_result",
          "data": {
            "text/plain": [
              "(1599, 12)"
            ]
          },
          "metadata": {},
          "execution_count": 9
        }
      ]
    },
    {
      "cell_type": "markdown",
      "metadata": {
        "id": "yhHa7RjOlRVp"
      },
      "source": [
        "**PLOTTING GRAPHS FOR BETTER INSIGHTS TO DATA DISTRIBUTION**"
      ]
    },
    {
      "cell_type": "code",
      "metadata": {
        "colab": {
          "base_uri": "https://localhost:8080/",
          "height": 405
        },
        "id": "UCdiyirrODXi",
        "outputId": "aa14094d-0e4a-485a-c98c-0b1c0e219466"
      },
      "source": [
        "#Alcohol level also goes higher as te quality of wine increases\n",
        "fig = plt.figure(figsize = (10,6))\n",
        "sns.barplot(x = 'quality', y = 'alcohol', data = df)"
      ],
      "execution_count": null,
      "outputs": [
        {
          "output_type": "execute_result",
          "data": {
            "text/plain": [
              "<matplotlib.axes._subplots.AxesSubplot at 0x7f740aa85290>"
            ]
          },
          "metadata": {},
          "execution_count": 10
        },
        {
          "output_type": "display_data",
          "data": {
            "image/png": "[encoded data removed]",
            "text/plain": [
              "<Figure size 720x432 with 1 Axes>"
            ]
          },
          "metadata": {
            "needs_background": "light"
          }
        }
      ]
    },
    {
      "cell_type": "code",
      "metadata": {
        "colab": {
          "base_uri": "https://localhost:8080/",
          "height": 405
        },
        "id": "yAU4eztFljlf",
        "outputId": "899eef6f-17d4-4866-ad38-93bd7a6c4b4c"
      },
      "source": [
        "#Sulphates level goes higher with the quality of wine\n",
        "fig = plt.figure(figsize = (10,6))\n",
        "sns.barplot(x = 'quality', y = 'sulphates', data = df)"
      ],
      "execution_count": null,
      "outputs": [
        {
          "output_type": "execute_result",
          "data": {
            "text/plain": [
              "<matplotlib.axes._subplots.AxesSubplot at 0x7f7407ccd450>"
            ]
          },
          "metadata": {},
          "execution_count": 11
        },
        {
          "output_type": "display_data",
          "data": {
            "image/png": "[encoded data removed]",
            "text/plain": [
              "<Figure size 720x432 with 1 Axes>"
            ]
          },
          "metadata": {
            "needs_background": "light"
          }
        }
      ]
    },
    {
      "cell_type": "code",
      "metadata": {
        "colab": {
          "base_uri": "https://localhost:8080/",
          "height": 405
        },
        "id": "5zxejsQal_si",
        "outputId": "ef9f4054-1dca-4490-95c5-4707e1c4012d"
      },
      "source": [
        "#Composition of chloride also go down as we go higher in the quality of the wine\n",
        "fig = plt.figure(figsize = (10,6))\n",
        "sns.barplot(x = 'quality', y = 'chlorides', data = df)"
      ],
      "execution_count": null,
      "outputs": [
        {
          "output_type": "execute_result",
          "data": {
            "text/plain": [
              "<matplotlib.axes._subplots.AxesSubplot at 0x7f7406acfb10>"
            ]
          },
          "metadata": {},
          "execution_count": 12
        },
        {
          "output_type": "display_data",
          "data": {
            "image/png": "[encoded data removed]",
            "text/plain": [
              "<Figure size 720x432 with 1 Axes>"
            ]
          },
          "metadata": {
            "needs_background": "light"
          }
        }
      ]
    },
    {
      "cell_type": "code",
      "metadata": {
        "colab": {
          "base_uri": "https://localhost:8080/",
          "height": 388
        },
        "id": "tCCATmKKODI5",
        "outputId": "d56ecac7-0a39-4c3a-f90c-6c893f3c01e8"
      },
      "source": [
        "# pH decreases as acid content increases\n",
        "plt.figure(figsize = (12,6))\n",
        "sns.scatterplot(x = 'citric acid', y = 'pH', data = df)\n",
        "plt.show()"
      ],
      "execution_count": null,
      "outputs": [
        {
          "output_type": "display_data",
          "data": {
            "image/png": "[encoded data removed]",
            "text/plain": [
              "<Figure size 864x432 with 1 Axes>"
            ]
          },
          "metadata": {
            "needs_background": "light"
          }
        }
      ]
    },
    {
      "cell_type": "code",
      "metadata": {
        "id": "AMakGVwGOC6F"
      },
      "source": [
        "# plt.figure(figsize = (12,6))\n",
        "# sns.pairplot(df)\n",
        "# plt.show()"
      ],
      "execution_count": null,
      "outputs": []
    },
    {
      "cell_type": "code",
      "metadata": {
        "colab": {
          "base_uri": "https://localhost:8080/",
          "height": 418
        },
        "id": "hdlHT2Aa4GCv",
        "outputId": "a6da0472-b47c-44a5-ac94-52edb8da0dd0"
      },
      "source": [
        "df.corr()"
      ],
      "execution_count": null,
      "outputs": [
        {
          "output_type": "execute_result",
          "data": {
            "text/html": [
              "<div>\n",
              "<style scoped>\n",
              "    .dataframe tbody tr th:only-of-type {\n",
              "        vertical-align: middle;\n",
              "    }\n",
              "\n",
              "    .dataframe tbody tr th {\n",
              "        vertical-align: top;\n",
              "    }\n",
              "\n",
              "    .dataframe thead th {\n",
              "        text-align: right;\n",
              "    }\n",
              "</style>\n",
              "<table border=\"1\" class=\"dataframe\">\n",
              "  <thead>\n",
              "    <tr style=\"text-align: right;\">\n",
              "      <th></th>\n",
              "      <th>fixed acidity</th>\n",
              "      <th>volatile acidity</th>\n",
              "      <th>citric acid</th>\n",
              "      <th>residual sugar</th>\n",
              "      <th>chlorides</th>\n",
              "      <th>free sulfur dioxide</th>\n",
              "      <th>total sulfur dioxide</th>\n",
              "      <th>density</th>\n",
              "      <th>pH</th>\n",
              "      <th>sulphates</th>\n",
              "      <th>alcohol</th>\n",
              "      <th>quality</th>\n",
              "    </tr>\n",
              "  </thead>\n",
              "  <tbody>\n",
              "    <tr>\n",
              "      <th>fixed acidity</th>\n",
              "      <td>1.000000</td>\n",
              "      <td>-0.256131</td>\n",
              "      <td>0.671703</td>\n",
              "      <td>0.114777</td>\n",
              "      <td>0.093705</td>\n",
              "      <td>-0.153794</td>\n",
              "      <td>-0.113181</td>\n",
              "      <td>0.668047</td>\n",
              "      <td>-0.682978</td>\n",
              "      <td>0.183006</td>\n",
              "      <td>-0.061668</td>\n",
              "      <td>0.124052</td>\n",
              "    </tr>\n",
              "    <tr>\n",
              "      <th>volatile acidity</th>\n",
              "      <td>-0.256131</td>\n",
              "      <td>1.000000</td>\n",
              "      <td>-0.552496</td>\n",
              "      <td>0.001918</td>\n",
              "      <td>0.061298</td>\n",
              "      <td>-0.010504</td>\n",
              "      <td>0.076470</td>\n",
              "      <td>0.022026</td>\n",
              "      <td>0.234937</td>\n",
              "      <td>-0.260987</td>\n",
              "      <td>-0.202288</td>\n",
              "      <td>-0.390558</td>\n",
              "    </tr>\n",
              "    <tr>\n",
              "      <th>citric acid</th>\n",
              "      <td>0.671703</td>\n",
              "      <td>-0.552496</td>\n",
              "      <td>1.000000</td>\n",
              "      <td>0.143577</td>\n",
              "      <td>0.203823</td>\n",
              "      <td>-0.060978</td>\n",
              "      <td>0.035533</td>\n",
              "      <td>0.364947</td>\n",
              "      <td>-0.541904</td>\n",
              "      <td>0.312770</td>\n",
              "      <td>0.109903</td>\n",
              "      <td>0.226373</td>\n",
              "    </tr>\n",
              "    <tr>\n",
              "      <th>residual sugar</th>\n",
              "      <td>0.114777</td>\n",
              "      <td>0.001918</td>\n",
              "      <td>0.143577</td>\n",
              "      <td>1.000000</td>\n",
              "      <td>0.055610</td>\n",
              "      <td>0.187049</td>\n",
              "      <td>0.203028</td>\n",
              "      <td>0.355283</td>\n",
              "      <td>-0.085652</td>\n",
              "      <td>0.005527</td>\n",
              "      <td>0.042075</td>\n",
              "      <td>0.013732</td>\n",
              "    </tr>\n",
              "    <tr>\n",
              "      <th>chlorides</th>\n",
              "      <td>0.093705</td>\n",
              "      <td>0.061298</td>\n",
              "      <td>0.203823</td>\n",
              "      <td>0.055610</td>\n",
              "      <td>1.000000</td>\n",
              "      <td>0.005562</td>\n",
              "      <td>0.047400</td>\n",
              "      <td>0.200632</td>\n",
              "      <td>-0.265026</td>\n",
              "      <td>0.371260</td>\n",
              "      <td>-0.221141</td>\n",
              "      <td>-0.128907</td>\n",
              "    </tr>\n",
              "    <tr>\n",
              "      <th>free sulfur dioxide</th>\n",
              "      <td>-0.153794</td>\n",
              "      <td>-0.010504</td>\n",
              "      <td>-0.060978</td>\n",
              "      <td>0.187049</td>\n",
              "      <td>0.005562</td>\n",
              "      <td>1.000000</td>\n",
              "      <td>0.667666</td>\n",
              "      <td>-0.021946</td>\n",
              "      <td>0.070377</td>\n",
              "      <td>0.051658</td>\n",
              "      <td>-0.069408</td>\n",
              "      <td>-0.050656</td>\n",
              "    </tr>\n",
              "    <tr>\n",
              "      <th>total sulfur dioxide</th>\n",
              "      <td>-0.113181</td>\n",
              "      <td>0.076470</td>\n",
              "      <td>0.035533</td>\n",
              "      <td>0.203028</td>\n",
              "      <td>0.047400</td>\n",
              "      <td>0.667666</td>\n",
              "      <td>1.000000</td>\n",
              "      <td>0.071269</td>\n",
              "      <td>-0.066495</td>\n",
              "      <td>0.042947</td>\n",
              "      <td>-0.205654</td>\n",
              "      <td>-0.185100</td>\n",
              "    </tr>\n",
              "    <tr>\n",
              "      <th>density</th>\n",
              "      <td>0.668047</td>\n",
              "      <td>0.022026</td>\n",
              "      <td>0.364947</td>\n",
              "      <td>0.355283</td>\n",
              "      <td>0.200632</td>\n",
              "      <td>-0.021946</td>\n",
              "      <td>0.071269</td>\n",
              "      <td>1.000000</td>\n",
              "      <td>-0.341699</td>\n",
              "      <td>0.148506</td>\n",
              "      <td>-0.496180</td>\n",
              "      <td>-0.174919</td>\n",
              "    </tr>\n",
              "    <tr>\n",
              "      <th>pH</th>\n",
              "      <td>-0.682978</td>\n",
              "      <td>0.234937</td>\n",
              "      <td>-0.541904</td>\n",
              "      <td>-0.085652</td>\n",
              "      <td>-0.265026</td>\n",
              "      <td>0.070377</td>\n",
              "      <td>-0.066495</td>\n",
              "      <td>-0.341699</td>\n",
              "      <td>1.000000</td>\n",
              "      <td>-0.196648</td>\n",
              "      <td>0.205633</td>\n",
              "      <td>-0.057731</td>\n",
              "    </tr>\n",
              "    <tr>\n",
              "      <th>sulphates</th>\n",
              "      <td>0.183006</td>\n",
              "      <td>-0.260987</td>\n",
              "      <td>0.312770</td>\n",
              "      <td>0.005527</td>\n",
              "      <td>0.371260</td>\n",
              "      <td>0.051658</td>\n",
              "      <td>0.042947</td>\n",
              "      <td>0.148506</td>\n",
              "      <td>-0.196648</td>\n",
              "      <td>1.000000</td>\n",
              "      <td>0.093595</td>\n",
              "      <td>0.251397</td>\n",
              "    </tr>\n",
              "    <tr>\n",
              "      <th>alcohol</th>\n",
              "      <td>-0.061668</td>\n",
              "      <td>-0.202288</td>\n",
              "      <td>0.109903</td>\n",
              "      <td>0.042075</td>\n",
              "      <td>-0.221141</td>\n",
              "      <td>-0.069408</td>\n",
              "      <td>-0.205654</td>\n",
              "      <td>-0.496180</td>\n",
              "      <td>0.205633</td>\n",
              "      <td>0.093595</td>\n",
              "      <td>1.000000</td>\n",
              "      <td>0.476166</td>\n",
              "    </tr>\n",
              "    <tr>\n",
              "      <th>quality</th>\n",
              "      <td>0.124052</td>\n",
              "      <td>-0.390558</td>\n",
              "      <td>0.226373</td>\n",
              "      <td>0.013732</td>\n",
              "      <td>-0.128907</td>\n",
              "      <td>-0.050656</td>\n",
              "      <td>-0.185100</td>\n",
              "      <td>-0.174919</td>\n",
              "      <td>-0.057731</td>\n",
              "      <td>0.251397</td>\n",
              "      <td>0.476166</td>\n",
              "      <td>1.000000</td>\n",
              "    </tr>\n",
              "  </tbody>\n",
              "</table>\n",
              "</div>"
            ],
            "text/plain": [
              "                      fixed acidity  volatile acidity  ...   alcohol   quality\n",
              "fixed acidity              1.000000         -0.256131  ... -0.061668  0.124052\n",
              "volatile acidity          -0.256131          1.000000  ... -0.202288 -0.390558\n",
              "citric acid                0.671703         -0.552496  ...  0.109903  0.226373\n",
              "residual sugar             0.114777          0.001918  ...  0.042075  0.013732\n",
              "chlorides                  0.093705          0.061298  ... -0.221141 -0.128907\n",
              "free sulfur dioxide       -0.153794         -0.010504  ... -0.069408 -0.050656\n",
              "total sulfur dioxide      -0.113181          0.076470  ... -0.205654 -0.185100\n",
              "density                    0.668047          0.022026  ... -0.496180 -0.174919\n",
              "pH                        -0.682978          0.234937  ...  0.205633 -0.057731\n",
              "sulphates                  0.183006         -0.260987  ...  0.093595  0.251397\n",
              "alcohol                   -0.061668         -0.202288  ...  1.000000  0.476166\n",
              "quality                    0.124052         -0.390558  ...  0.476166  1.000000\n",
              "\n",
              "[12 rows x 12 columns]"
            ]
          },
          "metadata": {},
          "execution_count": 15
        }
      ]
    },
    {
      "cell_type": "code",
      "metadata": {
        "colab": {
          "base_uri": "https://localhost:8080/",
          "height": 572
        },
        "id": "03TPRg6j4GAV",
        "outputId": "41ba92a0-643b-49c3-b81c-541ddbc8fd50"
      },
      "source": [
        "corr = df.corr()\n",
        "#Plot figsize\n",
        "fig, ax = plt.subplots(figsize=(10, 8))\n",
        "#Generate Heat Map, allow annotations and place floats in map\n",
        "sns.heatmap(corr, cmap='coolwarm', annot=True, fmt=\".2f\")\n",
        "#Apply xticks\n",
        "plt.xticks(range(len(corr.columns)), corr.columns);\n",
        "#Apply yticks\n",
        "plt.yticks(range(len(corr.columns)), corr.columns)\n",
        "#show plot\n",
        "plt.show()"
      ],
      "execution_count": null,
      "outputs": [
        {
          "output_type": "display_data",
          "data": {
            "image/png": "[encoded data removed]",
            "text/plain": [
              "<Figure size 720x576 with 2 Axes>"
            ]
          },
          "metadata": {
            "needs_background": "light"
          }
        }
      ]
    },
    {
      "cell_type": "code",
      "metadata": {
        "colab": {
          "base_uri": "https://localhost:8080/"
        },
        "id": "LXtYmLE14F4t",
        "outputId": "6b7c565d-6d99-4f7e-b03c-e10118d15314"
      },
      "source": [
        "df.quality.unique()"
      ],
      "execution_count": null,
      "outputs": [
        {
          "output_type": "execute_result",
          "data": {
            "text/plain": [
              "array([5, 6, 7, 4, 8, 3])"
            ]
          },
          "metadata": {},
          "execution_count": 17
        }
      ]
    },
    {
      "cell_type": "code",
      "metadata": {
        "colab": {
          "base_uri": "https://localhost:8080/",
          "height": 350
        },
        "id": "SaTqJvv2-c78",
        "outputId": "bb946312-bb41-4de2-8203-54023b5d9388"
      },
      "source": [
        "sns.countplot(df[\"quality\"])\n",
        "# We see that there is classimbalance issue in the dataset.\n",
        "# So we need to fix this by only taking two classes bad and good wines only."
      ],
      "execution_count": null,
      "outputs": [
        {
          "output_type": "stream",
          "name": "stderr",
          "text": [
            "/usr/local/lib/python3.7/dist-packages/seaborn/_decorators.py:43: FutureWarning: Pass the following variable as a keyword arg: x. From version 0.12, the only valid positional argument will be `data`, and passing other arguments without an explicit keyword will result in an error or misinterpretation.\n",
            "  FutureWarning\n"
          ]
        },
        {
          "output_type": "execute_result",
          "data": {
            "text/plain": [
              "<matplotlib.axes._subplots.AxesSubplot at 0x7f73fccc6a10>"
            ]
          },
          "metadata": {},
          "execution_count": 18
        },
        {
          "output_type": "display_data",
          "data": {
            "image/png": "[encoded data removed]",
            "text/plain": [
              "<Figure size 432x288 with 1 Axes>"
            ]
          },
          "metadata": {
            "needs_background": "light"
          }
        }
      ]
    },
    {
      "cell_type": "markdown",
      "metadata": {
        "id": "YXxtXjUB_JFe"
      },
      "source": [
        "**PRE-PROCESSING DATA FOR ML ALGORITHMS**\n",
        "\n",
        "> 1-6 -> \"bad\" 7-10 -> \"good\"\n",
        "\n"
      ]
    },
    {
      "cell_type": "code",
      "metadata": {
        "id": "F0_qU531-c4a"
      },
      "source": [
        "#Making binary classificaion for the response variable.\n",
        "#Dividing wine as good and bad by giving the limit for the quality\n",
        "bins = (1, 6, 10)\n",
        "group_names = ['bad', 'good']\n",
        "df['quality'] = pd.cut(df['quality'], bins = bins, labels = group_names)"
      ],
      "execution_count": null,
      "outputs": []
    },
    {
      "cell_type": "code",
      "metadata": {
        "id": "DLOA5ry5-c17"
      },
      "source": [
        "#Now we assign a labels to our quality variable\n",
        "label_quality = LabelEncoder()"
      ],
      "execution_count": null,
      "outputs": []
    },
    {
      "cell_type": "code",
      "metadata": {
        "id": "WX5ApqaK-cvN"
      },
      "source": [
        "#Bad becomes 0 and good becomes 1 \n",
        "df['quality'] = label_quality.fit_transform(df['quality'])"
      ],
      "execution_count": null,
      "outputs": []
    },
    {
      "cell_type": "code",
      "metadata": {
        "colab": {
          "base_uri": "https://localhost:8080/"
        },
        "id": "fRyvHO40-ctB",
        "outputId": "68b0fb00-2318-408d-b3b8-35ebe4030bbf"
      },
      "source": [
        "df['quality'].value_counts()"
      ],
      "execution_count": null,
      "outputs": [
        {
          "output_type": "execute_result",
          "data": {
            "text/plain": [
              "0    1382\n",
              "1     217\n",
              "Name: quality, dtype: int64"
            ]
          },
          "metadata": {},
          "execution_count": 22
        }
      ]
    },
    {
      "cell_type": "code",
      "metadata": {
        "colab": {
          "base_uri": "https://localhost:8080/",
          "height": 350
        },
        "id": "pzUfUIm--cqv",
        "outputId": "3231ddfd-a2a7-4418-f419-4c2429467fcc"
      },
      "source": [
        "sns.countplot(df['quality'])"
      ],
      "execution_count": null,
      "outputs": [
        {
          "output_type": "stream",
          "name": "stderr",
          "text": [
            "/usr/local/lib/python3.7/dist-packages/seaborn/_decorators.py:43: FutureWarning: Pass the following variable as a keyword arg: x. From version 0.12, the only valid positional argument will be `data`, and passing other arguments without an explicit keyword will result in an error or misinterpretation.\n",
            "  FutureWarning\n"
          ]
        },
        {
          "output_type": "execute_result",
          "data": {
            "text/plain": [
              "<matplotlib.axes._subplots.AxesSubplot at 0x7f73fb4affd0>"
            ]
          },
          "metadata": {},
          "execution_count": 23
        },
        {
          "output_type": "display_data",
          "data": {
            "image/png": "[encoded data removed]",
            "text/plain": [
              "<Figure size 432x288 with 1 Axes>"
            ]
          },
          "metadata": {
            "needs_background": "light"
          }
        }
      ]
    },
    {
      "cell_type": "code",
      "metadata": {
        "id": "W-P6PdfJ-cod"
      },
      "source": [
        "X = df.iloc[:,:-1].values\n",
        "y = df.iloc[:,-1].values\n",
        "sc_X = StandardScaler()\n",
        "X = sc_X.fit_transform(X)"
      ],
      "execution_count": null,
      "outputs": []
    },
    {
      "cell_type": "code",
      "metadata": {
        "id": "l0NUM3yi-cmb"
      },
      "source": [
        "def split(X,y,train=50,validation=30,test=20,percentage=True):\n",
        "  if percentage:\n",
        "    train = train/100\n",
        "    validation = validation/100\n",
        "    test = test/100    \n",
        "  from sklearn.model_selection import train_test_split\n",
        "  X_temp, X_test, Y_temp, Y_test = train_test_split(X,y, test_size=test, random_state=42)\n",
        "  X_train,X_valid,Y_train,Y_valid = train_test_split(X_temp,Y_temp,test_size=((validation*100)/(100 - test*100)),random_state=50)\n",
        "\n",
        "  return X_train,X_valid,X_test,Y_train,Y_valid,Y_test"
      ],
      "execution_count": null,
      "outputs": []
    },
    {
      "cell_type": "code",
      "metadata": {
        "id": "2JxiW3np-cj1"
      },
      "source": [
        "X1_train,X1_valid,X1_test,Y1_train,Y1_valid,Y1_test= split(X,y)"
      ],
      "execution_count": null,
      "outputs": []
    },
    {
      "cell_type": "code",
      "metadata": {
        "colab": {
          "base_uri": "https://localhost:8080/"
        },
        "id": "fmXmZ3bxqqgP",
        "outputId": "a016e819-e307-446d-e3b8-047f240ac323"
      },
      "source": [
        "X1_train.shape"
      ],
      "execution_count": null,
      "outputs": [
        {
          "output_type": "execute_result",
          "data": {
            "text/plain": [
              "(799, 11)"
            ]
          },
          "metadata": {},
          "execution_count": 27
        }
      ]
    },
    {
      "cell_type": "markdown",
      "metadata": {
        "id": "EjVbOjKWg6bZ"
      },
      "source": [
        "**K-Fold Implementation (K=5)**"
      ]
    },
    {
      "cell_type": "code",
      "metadata": {
        "id": "HhK07DZXg6Gf"
      },
      "source": [
        "# shuffel the dataset\n",
        "X, y = shuffle(X, y, random_state=100)"
      ],
      "execution_count": null,
      "outputs": []
    },
    {
      "cell_type": "code",
      "metadata": {
        "id": "-gPp5Wndg6DF"
      },
      "source": [
        "def fold(X2,Y2):\n",
        "  kf = KFold(n_splits=5,random_state=1000, shuffle=True)\n",
        "  kf.get_n_splits(X2)\n",
        "  kfold_x_train = []\n",
        "  kfold_x_test = []\n",
        "  kfold_y_train = []\n",
        "  kfold_y_test = []\n",
        "  for train_index, test_index in kf.split(X2):\n",
        "    X_train, X_test = X2[train_index], X2[test_index]\n",
        "    y_train, y_test = Y2[train_index], Y2[test_index]\n",
        "    kfold_x_train.append(X_train)\n",
        "    kfold_x_test.append(X_test)\n",
        "    kfold_y_train.append(y_train)\n",
        "    kfold_y_test.append(y_test)\n",
        "  kfold_x_train, kfold_x_test, kfold_y_train, kfold_y_test  = np.array(kfold_x_train), np.array(kfold_x_test), np.array(kfold_y_train), np.array(kfold_y_test)\n",
        "  for i in range(0, 5):\n",
        "    kfold_y_train[i] = kfold_y_train[i].flatten()\n",
        "  return kfold_x_train, kfold_x_test, kfold_y_train, kfold_y_test"
      ],
      "execution_count": null,
      "outputs": []
    },
    {
      "cell_type": "code",
      "metadata": {
        "colab": {
          "base_uri": "https://localhost:8080/"
        },
        "id": "EIBv6Re9g6BD",
        "outputId": "44ab62d0-3fb6-4642-9808-8f658035c65d"
      },
      "source": [
        "all_x_train, all_x_test, all_y_train, all_y_test = fold(X, y)"
      ],
      "execution_count": null,
      "outputs": [
        {
          "output_type": "stream",
          "name": "stderr",
          "text": [
            "/usr/local/lib/python3.7/dist-packages/ipykernel_launcher.py:15: VisibleDeprecationWarning: Creating an ndarray from ragged nested sequences (which is a list-or-tuple of lists-or-tuples-or ndarrays with different lengths or shapes) is deprecated. If you meant to do this, you must specify 'dtype=object' when creating the ndarray\n",
            "  from ipykernel import kernelapp as app\n"
          ]
        }
      ]
    },
    {
      "cell_type": "markdown",
      "metadata": {
        "id": "Cog_JPypM33Y"
      },
      "source": [
        "# **ML ALGORITHMS**"
      ]
    },
    {
      "cell_type": "markdown",
      "metadata": {
        "id": "0Bd0LfWuhvUe"
      },
      "source": [
        "**1) LOGISTIC REGRESSION**"
      ]
    },
    {
      "cell_type": "code",
      "metadata": {
        "id": "pHtXPV9Cg5_E"
      },
      "source": [
        "from sklearn.linear_model import LogisticRegression\n",
        "from sklearn.metrics import  accuracy_score, f1_score, precision_score, recall_score, classification_report, confusion_matrix"
      ],
      "execution_count": null,
      "outputs": []
    },
    {
      "cell_type": "markdown",
      "metadata": {
        "id": "mfvXFJpVHzDm"
      },
      "source": [
        "HYPERPARAMETER TUNING"
      ]
    },
    {
      "cell_type": "code",
      "metadata": {
        "id": "vdV07malHgu9"
      },
      "source": [
        "from sklearn.model_selection import GridSearchCV\n",
        "\n",
        "param_grid = [    \n",
        "    {'solver' : ['lbfgs','newton-cg','liblinear', 'sag','saga'],\n",
        "    'max_iter' : [100, 1000,2500, 5000],\n",
        "    'tol' : [0.1, 0.01, 0.001, 0.0001, 0.00001],\n",
        "    }\n",
        "]\n",
        "Logistic_regression =  LogisticRegression()\n",
        "clf = GridSearchCV(Logistic_regression, param_grid = param_grid, n_jobs=-1)\n",
        "\n",
        "best_clf = clf.fit(X1_train, Y1_train)"
      ],
      "execution_count": null,
      "outputs": []
    },
    {
      "cell_type": "code",
      "metadata": {
        "colab": {
          "base_uri": "https://localhost:8080/"
        },
        "id": "R_gq5tWZHlzp",
        "outputId": "2dbfc284-3d01-4646-c278-4e019cc86bd7"
      },
      "source": [
        "LR = best_clf.best_estimator_\n",
        "print(LR)"
      ],
      "execution_count": null,
      "outputs": [
        {
          "output_type": "stream",
          "name": "stdout",
          "text": [
            "LogisticRegression(C=1.0, class_weight=None, dual=False, fit_intercept=True,\n",
            "                   intercept_scaling=1, l1_ratio=None, max_iter=2500,\n",
            "                   multi_class='auto', n_jobs=None, penalty='l2',\n",
            "                   random_state=None, solver='sag', tol=0.1, verbose=0,\n",
            "                   warm_start=False)\n"
          ]
        }
      ]
    },
    {
      "cell_type": "markdown",
      "metadata": {
        "id": "-I7JhX4FqZCY"
      },
      "source": [
        "Logistic regresstion on splitted DataSet.\n",
        "(TrainSet = 50%, ValidSet = 30%, testSet = 20%)\n",
        "\n"
      ]
    },
    {
      "cell_type": "code",
      "metadata": {
        "colab": {
          "base_uri": "https://localhost:8080/",
          "height": 614
        },
        "id": "iNppiejko9mi",
        "outputId": "a830d5ad-e049-4e19-d0af-00f16d91d130"
      },
      "source": [
        "#Start with logistic regression model\n",
        "LR_classifier = LR.fit(X1_train, Y1_train)\n",
        "print(\"\\nAccuracy on Training DataSet: \" + str(LR_classifier.score(X1_train, Y1_train)*100) + \"%\")\n",
        "predicted = LR_classifier.predict(X1_test)\n",
        "print(\"Accuracy on Testing DataSet : \" + str(accuracy_score(Y1_test, predicted)*100) + \"\\n\")\n",
        "# print(str(recall_score(Y1_test,predicted, average=None, zero_division=1)))\n",
        "print('Confusion Matrix : \\n' + str(confusion_matrix(Y1_test, predicted))+ \"\\n\")\n",
        "\n",
        "matrix_logit = confusion_matrix(Y1_test, predicted)\n",
        "cm_logit = pd.DataFrame(matrix_logit, index=['bad', 'good'], columns=['bad', 'good'])\n",
        "\n",
        "sns.heatmap(cm_logit, annot=True, cbar=None, cmap=\"Blues\", fmt = 'g')\n",
        "plt.title(\"Confusion Matrix of Logistic Regression \"), plt.tight_layout()\n",
        "plt.ylabel(\"Actual Class\"), plt.xlabel(\"Predicted Class\")\n",
        "plt.show()\n",
        "\n",
        "print(\"Classification Report :- \")\n",
        "out_labels = [0, 1]\n",
        "print(classification_report(Y1_test, predicted, out_labels, digits=5))"
      ],
      "execution_count": null,
      "outputs": [
        {
          "output_type": "stream",
          "name": "stdout",
          "text": [
            "\n",
            "Accuracy on Training DataSet: 87.60951188986232%\n",
            "Accuracy on Testing DataSet : 85.0\n",
            "\n",
            "Confusion Matrix : \n",
            "[[257  16]\n",
            " [ 32  15]]\n",
            "\n"
          ]
        },
        {
          "output_type": "display_data",
          "data": {
            "image/png": "[encoded data removed]",
            "text/plain": [
              "<Figure size 432x288 with 1 Axes>"
            ]
          },
          "metadata": {
            "needs_background": "light"
          }
        },
        {
          "output_type": "stream",
          "name": "stdout",
          "text": [
            "Classification Report :- \n",
            "              precision    recall  f1-score   support\n",
            "\n",
            "           0    0.88927   0.94139   0.91459       273\n",
            "           1    0.48387   0.31915   0.38462        47\n",
            "\n",
            "    accuracy                        0.85000       320\n",
            "   macro avg    0.68657   0.63027   0.64960       320\n",
            "weighted avg    0.82973   0.85000   0.83675       320\n",
            "\n"
          ]
        }
      ]
    },
    {
      "cell_type": "markdown",
      "metadata": {
        "id": "-3TbPDinsFde"
      },
      "source": [
        "K-Fold Cross Validation using Logistic Regression.\n",
        "\n"
      ]
    },
    {
      "cell_type": "code",
      "metadata": {
        "colab": {
          "base_uri": "https://localhost:8080/"
        },
        "id": "XGUUBIxg-chC",
        "outputId": "7d9e681e-425b-480e-ad52-0f9ecbc5463a"
      },
      "source": [
        "#K-Fold (K=5)\n",
        "for i in range(0, 5): # for K=5\n",
        "  print(\"For fold no:\", i+1)\n",
        "  print(\"_\"*25)\n",
        "  LR_classifier = LogisticRegression(tol=0.001, random_state=10, solver = 'liblinear', max_iter = 1000).fit(all_x_train[i], all_y_train[i])\n",
        "  print(\"\\nAccuracy on Training DataSet: \" + str(LR_classifier.score(all_x_train[i], all_y_train[i])*100) + \"%\")\n",
        "  predicted = LR_classifier.predict(all_x_test[i])\n",
        "  print(\"Accuracy on Testing DataSet : \" + str(accuracy_score(all_y_test[i], predicted)*100) + \"\\n\")\n",
        "  print('Confusion Matrix : \\n' + str(confusion_matrix(all_y_test[i], predicted))+ \"\\n\")\n",
        "  print(\"Classification Report :- \")\n",
        "  out_labels = [0, 1]\n",
        "  print(classification_report(all_y_test[i], predicted, out_labels, digits=5))\n",
        "  print(\"_\"*25)\n"
      ],
      "execution_count": null,
      "outputs": [
        {
          "output_type": "stream",
          "name": "stdout",
          "text": [
            "For fold no: 1\n",
            "_________________________\n",
            "\n",
            "Accuracy on Training DataSet: 88.11571540265832%\n",
            "Accuracy on Testing DataSet : 87.5\n",
            "\n",
            "Confusion Matrix : \n",
            "[[265  14]\n",
            " [ 26  15]]\n",
            "\n",
            "Classification Report :- \n",
            "              precision    recall  f1-score   support\n",
            "\n",
            "           0    0.91065   0.94982   0.92982       279\n",
            "           1    0.51724   0.36585   0.42857        41\n",
            "\n",
            "    accuracy                        0.87500       320\n",
            "   macro avg    0.71395   0.65784   0.67920       320\n",
            "weighted avg    0.86025   0.87500   0.86560       320\n",
            "\n",
            "_________________________\n",
            "For fold no: 2\n",
            "_________________________\n",
            "\n",
            "Accuracy on Training DataSet: 87.72478498827209%\n",
            "Accuracy on Testing DataSet : 88.75\n",
            "\n",
            "Confusion Matrix : \n",
            "[[271   8]\n",
            " [ 28  13]]\n",
            "\n",
            "Classification Report :- \n",
            "              precision    recall  f1-score   support\n",
            "\n",
            "           0    0.90635   0.97133   0.93772       279\n",
            "           1    0.61905   0.31707   0.41935        41\n",
            "\n",
            "    accuracy                        0.88750       320\n",
            "   macro avg    0.76270   0.64420   0.67854       320\n",
            "weighted avg    0.86954   0.88750   0.87130       320\n",
            "\n",
            "_________________________\n",
            "For fold no: 3\n",
            "_________________________\n",
            "\n",
            "Accuracy on Training DataSet: 88.50664581704457%\n",
            "Accuracy on Testing DataSet : 87.5\n",
            "\n",
            "Confusion Matrix : \n",
            "[[271   6]\n",
            " [ 34   9]]\n",
            "\n",
            "Classification Report :- \n",
            "              precision    recall  f1-score   support\n",
            "\n",
            "           0    0.88852   0.97834   0.93127       277\n",
            "           1    0.60000   0.20930   0.31034        43\n",
            "\n",
            "    accuracy                        0.87500       320\n",
            "   macro avg    0.74426   0.59382   0.62081       320\n",
            "weighted avg    0.84975   0.87500   0.84783       320\n",
            "\n",
            "_________________________\n",
            "For fold no: 4\n",
            "_________________________\n",
            "\n",
            "Accuracy on Training DataSet: 87.95934323690383%\n",
            "Accuracy on Testing DataSet : 88.4375\n",
            "\n",
            "Confusion Matrix : \n",
            "[[265   8]\n",
            " [ 29  18]]\n",
            "\n",
            "Classification Report :- \n",
            "              precision    recall  f1-score   support\n",
            "\n",
            "           0    0.90136   0.97070   0.93474       273\n",
            "           1    0.69231   0.38298   0.49315        47\n",
            "\n",
            "    accuracy                        0.88437       320\n",
            "   macro avg    0.79683   0.67684   0.71395       320\n",
            "weighted avg    0.87066   0.88438   0.86989       320\n",
            "\n",
            "_________________________\n",
            "For fold no: 5\n",
            "_________________________\n",
            "\n",
            "Accuracy on Training DataSet: 88.828125%\n",
            "Accuracy on Testing DataSet : 85.8934169278997\n",
            "\n",
            "Confusion Matrix : \n",
            "[[264  10]\n",
            " [ 35  10]]\n",
            "\n",
            "Classification Report :- \n",
            "              precision    recall  f1-score   support\n",
            "\n",
            "           0    0.88294   0.96350   0.92147       274\n",
            "           1    0.50000   0.22222   0.30769        45\n",
            "\n",
            "    accuracy                        0.85893       319\n",
            "   macro avg    0.69147   0.59286   0.61458       319\n",
            "weighted avg    0.82892   0.85893   0.83488       319\n",
            "\n",
            "_________________________\n"
          ]
        }
      ]
    },
    {
      "cell_type": "markdown",
      "metadata": {
        "id": "HkAc7IK52k1M"
      },
      "source": [
        "**2) SINGLE PERCEPTRON MODEL**"
      ]
    },
    {
      "cell_type": "code",
      "metadata": {
        "id": "CfRNAcnioQwM"
      },
      "source": [
        "from sklearn.linear_model import Perceptron\n"
      ],
      "execution_count": null,
      "outputs": []
    },
    {
      "cell_type": "markdown",
      "metadata": {
        "id": "pS1xNe_aNWhg"
      },
      "source": [
        "HYPERPARAMETER TUNING"
      ]
    },
    {
      "cell_type": "code",
      "metadata": {
        "id": "G_ct7DfKK26j"
      },
      "source": [
        "from sklearn.model_selection import GridSearchCV\n",
        "\n",
        "param_grid = [    \n",
        "    {\n",
        "    'max_iter' : [100, 1000,2500, 5000],\n",
        "    'tol' : [0.1, 0.01, 0.001, 0.0001, 0.00001],\n",
        "    }\n",
        "]\n",
        "perceptron =  Perceptron()\n",
        "clf = GridSearchCV(perceptron, param_grid = param_grid, n_jobs=-1)\n",
        "\n",
        "best_clf = clf.fit(X1_train, Y1_train)"
      ],
      "execution_count": null,
      "outputs": []
    },
    {
      "cell_type": "code",
      "metadata": {
        "colab": {
          "base_uri": "https://localhost:8080/"
        },
        "id": "38y9dpORK2ox",
        "outputId": "6411a5e6-555f-49fd-ca9a-474fb1a56fe6"
      },
      "source": [
        "P = best_clf.best_estimator_\n",
        "print(P)"
      ],
      "execution_count": null,
      "outputs": [
        {
          "output_type": "stream",
          "name": "stdout",
          "text": [
            "Perceptron(alpha=0.0001, class_weight=None, early_stopping=False, eta0=1.0,\n",
            "           fit_intercept=True, max_iter=100, n_iter_no_change=5, n_jobs=None,\n",
            "           penalty=None, random_state=0, shuffle=True, tol=0.01,\n",
            "           validation_fraction=0.1, verbose=0, warm_start=False)\n"
          ]
        }
      ]
    },
    {
      "cell_type": "markdown",
      "metadata": {
        "id": "gIKQQDHYM0To"
      },
      "source": [
        "Perceptron on splitted DataSet.\n",
        "(TrainSet = 50%, ValidSet = 30%, testSet = 20%)\n",
        "\n"
      ]
    },
    {
      "cell_type": "code",
      "metadata": {
        "colab": {
          "base_uri": "https://localhost:8080/",
          "height": 597
        },
        "id": "NV7cy3pGhukP",
        "outputId": "5ab12369-9cba-45e9-948e-af0a9d57da33"
      },
      "source": [
        "P_classifier = P.fit(X1_train, Y1_train)\n",
        "print(\"Accuracy on training DataSet: \" + str(P_classifier.score(X1_train, Y1_train)*100) + \"%\")\n",
        "predicted = P_classifier.predict(X1_test)\n",
        "print(\"Accuracy on Testing DataSet : \" + str(accuracy_score(Y1_test, predicted)*100) + \"\\n\")\n",
        "print('Confusion Matrix : \\n' + str(confusion_matrix(Y1_test, predicted))+ \"\\n\")\n",
        "\n",
        "matrix_logit = confusion_matrix(Y1_test, predicted)\n",
        "cm_logit = pd.DataFrame(matrix_logit, index=['bad', 'good'], columns=['bad', 'good'])\n",
        "\n",
        "sns.heatmap(cm_logit, annot=True, cbar=None, cmap=\"Blues\", fmt = 'g')\n",
        "plt.title(\"Confusion Matrix of Single Perceptron \"), plt.tight_layout()\n",
        "plt.ylabel(\"Actual Class\"), plt.xlabel(\"Predicted Class\")\n",
        "plt.show()\n",
        "\n",
        "print(\"Classification Report :- \")\n",
        "out_labels = [0, 1]\n",
        "print(classification_report(Y1_test, predicted, out_labels, digits=5))"
      ],
      "execution_count": null,
      "outputs": [
        {
          "output_type": "stream",
          "name": "stdout",
          "text": [
            "Accuracy on training DataSet: 84.35544430538174%\n",
            "Accuracy on Testing DataSet : 80.625\n",
            "\n",
            "Confusion Matrix : \n",
            "[[244  29]\n",
            " [ 33  14]]\n",
            "\n"
          ]
        },
        {
          "output_type": "display_data",
          "data": {
            "image/png": "[encoded data removed]",
            "text/plain": [
              "<Figure size 432x288 with 1 Axes>"
            ]
          },
          "metadata": {
            "needs_background": "light"
          }
        },
        {
          "output_type": "stream",
          "name": "stdout",
          "text": [
            "Classification Report :- \n",
            "              precision    recall  f1-score   support\n",
            "\n",
            "           0    0.88087   0.89377   0.88727       273\n",
            "           1    0.32558   0.29787   0.31111        47\n",
            "\n",
            "    accuracy                        0.80625       320\n",
            "   macro avg    0.60322   0.59582   0.59919       320\n",
            "weighted avg    0.79931   0.80625   0.80265       320\n",
            "\n"
          ]
        }
      ]
    },
    {
      "cell_type": "markdown",
      "metadata": {
        "id": "JUi-BzOxNCVX"
      },
      "source": [
        "K-Fold Cross Validation using Perceptron Model."
      ]
    },
    {
      "cell_type": "code",
      "metadata": {
        "colab": {
          "base_uri": "https://localhost:8080/"
        },
        "id": "jyA_Mz8goQuL",
        "outputId": "823161b9-0db3-44ea-860e-545411925956"
      },
      "source": [
        "#Perceptron Model\n",
        "for i in range(0, 5): # for 5 fold\n",
        "  print(\"For fold no:\", i+1)\n",
        "  print(\"_\"*25)\n",
        "  P_classifier = Perceptron( tol=1e-3, random_state=10, max_iter=100).fit(all_x_train[i], all_y_train[i])\n",
        "  print(\"Accuracy on Training DataSet: \" + str(P_classifier.score(all_x_train[i], all_y_train[i])*100) + \"%\")\n",
        "  predicted = P_classifier.predict(all_x_test[i])\n",
        "  print(\"Accuracy on Testing DataSet : \" + str(accuracy_score(all_y_test[i], predicted)*100) + \"\\n\")\n",
        "  print('Confusion Matrix : \\n' + str(confusion_matrix(all_y_test[i], predicted))+ \"\\n\")\n",
        "  print(\"Classification Report :- \")\n",
        "  out_labels = [0, 1]\n",
        "  print(classification_report(all_y_test[i], predicted, out_labels, digits=5))\n",
        "  print(\"_\"*25)\n"
      ],
      "execution_count": null,
      "outputs": [
        {
          "output_type": "stream",
          "name": "stdout",
          "text": [
            "For fold no: 1\n",
            "_________________________\n",
            "Accuracy on Training DataSet: 83.58092259577795%\n",
            "Accuracy on Testing DataSet : 80.9375\n",
            "\n",
            "Confusion Matrix : \n",
            "[[233  46]\n",
            " [ 15  26]]\n",
            "\n",
            "Classification Report :- \n",
            "              precision    recall  f1-score   support\n",
            "\n",
            "           0    0.93952   0.83513   0.88425       279\n",
            "           1    0.36111   0.63415   0.46018        41\n",
            "\n",
            "    accuracy                        0.80937       320\n",
            "   macro avg    0.65031   0.73464   0.67221       320\n",
            "weighted avg    0.86541   0.80937   0.82992       320\n",
            "\n",
            "_________________________\n",
            "For fold no: 2\n",
            "_________________________\n",
            "Accuracy on Training DataSet: 78.4206411258796%\n",
            "Accuracy on Testing DataSet : 77.1875\n",
            "\n",
            "Confusion Matrix : \n",
            "[[232  47]\n",
            " [ 26  15]]\n",
            "\n",
            "Classification Report :- \n",
            "              precision    recall  f1-score   support\n",
            "\n",
            "           0    0.89922   0.83154   0.86406       279\n",
            "           1    0.24194   0.36585   0.29126        41\n",
            "\n",
            "    accuracy                        0.77187       320\n",
            "   macro avg    0.57058   0.59870   0.57766       320\n",
            "weighted avg    0.81501   0.77187   0.79067       320\n",
            "\n",
            "_________________________\n",
            "For fold no: 3\n",
            "_________________________\n",
            "Accuracy on Training DataSet: 82.64268960125098%\n",
            "Accuracy on Testing DataSet : 81.875\n",
            "\n",
            "Confusion Matrix : \n",
            "[[247  30]\n",
            " [ 28  15]]\n",
            "\n",
            "Classification Report :- \n",
            "              precision    recall  f1-score   support\n",
            "\n",
            "           0    0.89818   0.89170   0.89493       277\n",
            "           1    0.33333   0.34884   0.34091        43\n",
            "\n",
            "    accuracy                        0.81875       320\n",
            "   macro avg    0.61576   0.62027   0.61792       320\n",
            "weighted avg    0.82228   0.81875   0.82048       320\n",
            "\n",
            "_________________________\n",
            "For fold no: 4\n",
            "_________________________\n",
            "Accuracy on Training DataSet: 80.29710711493354%\n",
            "Accuracy on Testing DataSet : 78.75\n",
            "\n",
            "Confusion Matrix : \n",
            "[[234  39]\n",
            " [ 29  18]]\n",
            "\n",
            "Classification Report :- \n",
            "              precision    recall  f1-score   support\n",
            "\n",
            "           0    0.88973   0.85714   0.87313       273\n",
            "           1    0.31579   0.38298   0.34615        47\n",
            "\n",
            "    accuracy                        0.78750       320\n",
            "   macro avg    0.60276   0.62006   0.60964       320\n",
            "weighted avg    0.80544   0.78750   0.79573       320\n",
            "\n",
            "_________________________\n",
            "For fold no: 5\n",
            "_________________________\n",
            "Accuracy on Training DataSet: 85.078125%\n",
            "Accuracy on Testing DataSet : 82.13166144200626\n",
            "\n",
            "Confusion Matrix : \n",
            "[[250  24]\n",
            " [ 33  12]]\n",
            "\n",
            "Classification Report :- \n",
            "              precision    recall  f1-score   support\n",
            "\n",
            "           0    0.88339   0.91241   0.89767       274\n",
            "           1    0.33333   0.26667   0.29630        45\n",
            "\n",
            "    accuracy                        0.82132       319\n",
            "   macro avg    0.60836   0.58954   0.59698       319\n",
            "weighted avg    0.80580   0.82132   0.81283       319\n",
            "\n",
            "_________________________\n"
          ]
        }
      ]
    },
    {
      "cell_type": "markdown",
      "metadata": {
        "id": "ykTeCotPosOi"
      },
      "source": [
        "**3) MULTI LAYER PERCEPTRON (MLP)**"
      ]
    },
    {
      "cell_type": "code",
      "metadata": {
        "id": "g5rO-hcGoQp9"
      },
      "source": [
        "from sklearn.neural_network import MLPClassifier"
      ],
      "execution_count": null,
      "outputs": []
    },
    {
      "cell_type": "markdown",
      "metadata": {
        "id": "vBegeKAkNjS1"
      },
      "source": [
        "HYPERPARAMETER TUNING"
      ]
    },
    {
      "cell_type": "code",
      "metadata": {
        "id": "lLq7Ci_xLe4E"
      },
      "source": [
        "from sklearn.model_selection import GridSearchCV\n",
        "\n",
        "param_grid = [    \n",
        "    {'activation' : ['identity', 'logistic', 'tanh', 'relu'],\n",
        "     'solver' : ['lbfgs', 'sgd', 'adam'],\n",
        "     'max_iter' : [100, 1000,2500, 5000],\n",
        "    'tol' : [0.1, 0.01, 0.001, 0.0001, 0.00001],\n",
        "    }\n",
        "]\n",
        "mlp =  MLPClassifier()\n",
        "#  cv=2 because we are not using kFold validation here, so to divide folds into test and train we are using cv=2\n",
        "clf = GridSearchCV(mlp, param_grid = param_grid, n_jobs=-1)\n",
        "\n",
        "best_clf = clf.fit(X1_train, Y1_train)"
      ],
      "execution_count": null,
      "outputs": []
    },
    {
      "cell_type": "code",
      "metadata": {
        "colab": {
          "base_uri": "https://localhost:8080/"
        },
        "id": "1w5oH53FjSIS",
        "outputId": "b3a01af2-f612-4cd8-922a-52f4a565a013"
      },
      "source": [
        "MLP = best_clf.best_estimator_\n",
        "print(MLP)"
      ],
      "execution_count": null,
      "outputs": [
        {
          "output_type": "stream",
          "name": "stdout",
          "text": [
            "MLPClassifier(activation='tanh', alpha=0.0001, batch_size='auto', beta_1=0.9,\n",
            "              beta_2=0.999, early_stopping=False, epsilon=1e-08,\n",
            "              hidden_layer_sizes=(100,), learning_rate='constant',\n",
            "              learning_rate_init=0.001, max_fun=15000, max_iter=5000,\n",
            "              momentum=0.9, n_iter_no_change=10, nesterovs_momentum=True,\n",
            "              power_t=0.5, random_state=None, shuffle=True, solver='lbfgs',\n",
            "              tol=0.01, validation_fraction=0.1, verbose=False,\n",
            "              warm_start=False)\n"
          ]
        }
      ]
    },
    {
      "cell_type": "markdown",
      "metadata": {
        "id": "fLeJp33KNm12"
      },
      "source": [
        "MLP on splitted DataSet.\n",
        "(TrainSet = 50%, ValidSet = 30%, testSet = 20%)\n",
        "\n"
      ]
    },
    {
      "cell_type": "code",
      "metadata": {
        "colab": {
          "base_uri": "https://localhost:8080/",
          "height": 597
        },
        "id": "q4OFsa9_jSEt",
        "outputId": "5b980ff0-9fdb-4424-e353-95e1b74d1e77"
      },
      "source": [
        "mlp = MLP.fit(X1_train, Y1_train)\n",
        "mlp.predict(all_x_train[i])\n",
        "print(\"Accuracy on Training DataSet: \" + str(mlp.score(X1_train, Y1_train)*100) + \"%\")\n",
        "predicted = mlp.predict(X1_test)\n",
        "print(\"Accuracy on  Testing DataSet: \" + str(accuracy_score(Y1_test, predicted)*100) + \"\\n\")\n",
        "print('Confusion Matrix : \\n' + str(confusion_matrix(Y1_test, predicted)) + \"\\n\")\n",
        "\n",
        "matrix_logit = confusion_matrix(Y1_test, predicted)\n",
        "cm_logit = pd.DataFrame(matrix_logit, index=['bad', 'good'], columns=['bad', 'good'])\n",
        "\n",
        "sns.heatmap(cm_logit, annot=True, cbar=None, cmap=\"Blues\", fmt = 'g')\n",
        "plt.title(\"Confusion Matrix of MLP \"), plt.tight_layout()\n",
        "plt.ylabel(\"Actual Class\"), plt.xlabel(\"Predicted Class\")\n",
        "plt.show()\n",
        "\n",
        "print(\"Classification Report :-\")\n",
        "out_labels = [0, 1]\n",
        "print(classification_report(Y1_test, predicted, out_labels, digits=5))\n"
      ],
      "execution_count": null,
      "outputs": [
        {
          "output_type": "stream",
          "name": "stdout",
          "text": [
            "Accuracy on Training DataSet: 88.11013767209012%\n",
            "Accuracy on  Testing DataSet: 85.9375\n",
            "\n",
            "Confusion Matrix : \n",
            "[[262  11]\n",
            " [ 34  13]]\n",
            "\n"
          ]
        },
        {
          "output_type": "display_data",
          "data": {
            "image/png": "[encoded data removed]",
            "text/plain": [
              "<Figure size 432x288 with 1 Axes>"
            ]
          },
          "metadata": {
            "needs_background": "light"
          }
        },
        {
          "output_type": "stream",
          "name": "stdout",
          "text": [
            "Classification Report :-\n",
            "              precision    recall  f1-score   support\n",
            "\n",
            "           0    0.88514   0.95971   0.92091       273\n",
            "           1    0.54167   0.27660   0.36620        47\n",
            "\n",
            "    accuracy                        0.85938       320\n",
            "   macro avg    0.71340   0.61815   0.64356       320\n",
            "weighted avg    0.83469   0.85938   0.83944       320\n",
            "\n"
          ]
        }
      ]
    },
    {
      "cell_type": "markdown",
      "metadata": {
        "id": "MSIfnrjIQzea"
      },
      "source": [
        "K-Fold Cross Validation Using MultiLayer Perceptron."
      ]
    },
    {
      "cell_type": "code",
      "metadata": {
        "colab": {
          "base_uri": "https://localhost:8080/"
        },
        "id": "kFftXukaoQnf",
        "outputId": "0fc5699d-1f76-42be-9166-d85f007dc80a"
      },
      "source": [
        "for i in range(0, 5): # for 5 fold\n",
        "  print(\"For fold no:\", i+1)\n",
        "  print(\"_\"*25)\n",
        "  mlp = MLPClassifier( activation='logistic', random_state=1, max_iter=2000).fit(all_x_train[i], all_y_train[i])\n",
        "  mlp.predict(all_x_train[i])\n",
        "  print(\"Accuracy on Training DataSet: \" + str(mlp.score(all_x_train[i], all_y_train[i])*100) + \"%\")\n",
        "  predicted = mlp.predict(all_x_test[i])\n",
        "  print(\"Accuracy on  Testing DataSet: \" + str(accuracy_score(all_y_test[i], predicted)*100) + \"\\n\")\n",
        "  print('Confusion Matrix : \\n' + str(confusion_matrix(all_y_test[i], predicted)) + \"\\n\")\n",
        "  print(\"Classification Report :-\")\n",
        "  out_labels = [0, 1]\n",
        "  print(classification_report(all_y_test[i], predicted, out_labels, digits=5))\n",
        "\n",
        "  print(\"_\"*25)"
      ],
      "execution_count": null,
      "outputs": [
        {
          "output_type": "stream",
          "name": "stdout",
          "text": [
            "For fold no: 1\n",
            "_________________________\n",
            "Accuracy on Training DataSet: 87.95934323690383%\n",
            "Accuracy on  Testing DataSet: 87.5\n",
            "\n",
            "Confusion Matrix : \n",
            "[[264  15]\n",
            " [ 25  16]]\n",
            "\n",
            "Classification Report :-\n",
            "              precision    recall  f1-score   support\n",
            "\n",
            "           0    0.91349   0.94624   0.92958       279\n",
            "           1    0.51613   0.39024   0.44444        41\n",
            "\n",
            "    accuracy                        0.87500       320\n",
            "   macro avg    0.71481   0.66824   0.68701       320\n",
            "weighted avg    0.86258   0.87500   0.86742       320\n",
            "\n",
            "_________________________\n",
            "For fold no: 2\n",
            "_________________________\n",
            "Accuracy on Training DataSet: 87.95934323690383%\n",
            "Accuracy on  Testing DataSet: 89.0625\n",
            "\n",
            "Confusion Matrix : \n",
            "[[271   8]\n",
            " [ 27  14]]\n",
            "\n",
            "Classification Report :-\n",
            "              precision    recall  f1-score   support\n",
            "\n",
            "           0    0.90940   0.97133   0.93934       279\n",
            "           1    0.63636   0.34146   0.44444        41\n",
            "\n",
            "    accuracy                        0.89062       320\n",
            "   macro avg    0.77288   0.65639   0.69189       320\n",
            "weighted avg    0.87441   0.89062   0.87593       320\n",
            "\n",
            "_________________________\n",
            "For fold no: 3\n",
            "_________________________\n",
            "Accuracy on Training DataSet: 88.42845973416732%\n",
            "Accuracy on  Testing DataSet: 87.5\n",
            "\n",
            "Confusion Matrix : \n",
            "[[271   6]\n",
            " [ 34   9]]\n",
            "\n",
            "Classification Report :-\n",
            "              precision    recall  f1-score   support\n",
            "\n",
            "           0    0.88852   0.97834   0.93127       277\n",
            "           1    0.60000   0.20930   0.31034        43\n",
            "\n",
            "    accuracy                        0.87500       320\n",
            "   macro avg    0.74426   0.59382   0.62081       320\n",
            "weighted avg    0.84975   0.87500   0.84783       320\n",
            "\n",
            "_________________________\n",
            "For fold no: 4\n",
            "_________________________\n",
            "Accuracy on Training DataSet: 88.11571540265832%\n",
            "Accuracy on  Testing DataSet: 88.75\n",
            "\n",
            "Confusion Matrix : \n",
            "[[262  11]\n",
            " [ 25  22]]\n",
            "\n",
            "Classification Report :-\n",
            "              precision    recall  f1-score   support\n",
            "\n",
            "           0    0.91289   0.95971   0.93571       273\n",
            "           1    0.66667   0.46809   0.55000        47\n",
            "\n",
            "    accuracy                        0.88750       320\n",
            "   macro avg    0.78978   0.71390   0.74286       320\n",
            "weighted avg    0.87673   0.88750   0.87906       320\n",
            "\n",
            "_________________________\n",
            "For fold no: 5\n",
            "_________________________\n",
            "Accuracy on Training DataSet: 88.671875%\n",
            "Accuracy on  Testing DataSet: 85.57993730407524\n",
            "\n",
            "Confusion Matrix : \n",
            "[[264  10]\n",
            " [ 36   9]]\n",
            "\n",
            "Classification Report :-\n",
            "              precision    recall  f1-score   support\n",
            "\n",
            "           0    0.88000   0.96350   0.91986       274\n",
            "           1    0.47368   0.20000   0.28125        45\n",
            "\n",
            "    accuracy                        0.85580       319\n",
            "   macro avg    0.67684   0.58175   0.60056       319\n",
            "weighted avg    0.82268   0.85580   0.82977       319\n",
            "\n",
            "_________________________\n"
          ]
        }
      ]
    },
    {
      "cell_type": "markdown",
      "metadata": {
        "id": "0wgQJ-SNTgYv"
      },
      "source": [
        "___________________________________________\n",
        "# **Result**\n",
        "___________________________________________\n",
        "\n",
        "Among all the 3 models :\n",
        "Logistic regression, Single Preceptron, MLP\n",
        "\n",
        "MLP has best accuracy."
      ]
    }
  ]
}